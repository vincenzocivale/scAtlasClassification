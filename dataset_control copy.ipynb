{
 "cells": [
  {
   "cell_type": "code",
   "execution_count": null,
   "id": "cb0f4a5e",
   "metadata": {},
   "outputs": [],
   "source": [
    "import scanpy as sc\n",
    "import pandas as pd\n",
    "import numpy as np\n",
    "import scipy.sparse as sp\n",
    "import anndata as ad"
   ]
  },
  {
   "cell_type": "code",
   "execution_count": null,
   "id": "07d0b96d",
   "metadata": {},
   "outputs": [],
   "source": [
    "# read tsv file with gene names\n",
    "genes_list = pd.read_csv(\"OS_scRNA_gene_index.19264.tsv\", header=None, sep=\"\\t\")[0].tolist()"
   ]
  },
  {
   "cell_type": "code",
   "execution_count": null,
   "id": "3a3b929c",
   "metadata": {},
   "outputs": [],
   "source": [
    "label_obs = 'cell_type'\n",
    "n_genes_filter = 200"
   ]
  },
  {
   "cell_type": "markdown",
   "id": "fd10fe78",
   "metadata": {},
   "source": [
    "# EYE DATASET"
   ]
  },
  {
   "cell_type": "code",
   "execution_count": 4,
   "id": "aeacfcd8",
   "metadata": {},
   "outputs": [],
   "source": [
    "adata = sc.read_h5ad(\"dataset/nervous_system_single_cell_atlas.h5ad\")"
   ]
  },
  {
   "cell_type": "code",
   "execution_count": 5,
   "id": "3ef1d361",
   "metadata": {},
   "outputs": [
    {
     "data": {
      "text/plain": [
       "AnnData object with n_obs × n_vars = 2480956 × 59236\n",
       "    obs: 'ROIGroup', 'ROIGroupCoarse', 'ROIGroupFine', 'roi', 'disease_ontology_term_id', 'self_reported_ethnicity_ontology_term_id', 'assay_ontology_term_id', 'sex_ontology_term_id', 'development_stage_ontology_term_id', 'donor_id', 'suspension_type', 'dissection', 'fraction_mitochondrial', 'fraction_unspliced', 'cell_cycle_score', 'total_genes', 'total_UMIs', 'sample_id', 'supercluster_term', 'cluster_id', 'subcluster_id', 'cell_type_ontology_term_id', 'tissue_ontology_term_id', 'is_primary_data', 'tissue_type', 'cell_type', 'assay', 'disease', 'sex', 'tissue', 'self_reported_ethnicity', 'development_stage', 'observation_joinid'\n",
       "    var: 'Biotype', 'Chromosome', 'End', 'Gene', 'Start', 'feature_is_filtered', 'feature_name', 'feature_reference', 'feature_biotype', 'feature_length', 'feature_type'\n",
       "    uns: 'batch_condition', 'citation', 'organism', 'organism_ontology_term_id', 'schema_reference', 'schema_version', 'title'\n",
       "    obsm: 'X_UMAP', 'X_tSNE'"
      ]
     },
     "execution_count": 5,
     "metadata": {},
     "output_type": "execute_result"
    }
   ],
   "source": [
    "adata"
   ]
  },
  {
   "cell_type": "markdown",
   "id": "ba67ca43",
   "metadata": {},
   "source": [
    "## Gene Alignment"
   ]
  },
  {
   "cell_type": "code",
   "execution_count": 6,
   "id": "9ac8ed9b",
   "metadata": {},
   "outputs": [
    {
     "data": {
      "text/html": [
       "<div>\n",
       "<style scoped>\n",
       "    .dataframe tbody tr th:only-of-type {\n",
       "        vertical-align: middle;\n",
       "    }\n",
       "\n",
       "    .dataframe tbody tr th {\n",
       "        vertical-align: top;\n",
       "    }\n",
       "\n",
       "    .dataframe thead th {\n",
       "        text-align: right;\n",
       "    }\n",
       "</style>\n",
       "<table border=\"1\" class=\"dataframe\">\n",
       "  <thead>\n",
       "    <tr style=\"text-align: right;\">\n",
       "      <th></th>\n",
       "      <th>Biotype</th>\n",
       "      <th>Chromosome</th>\n",
       "      <th>End</th>\n",
       "      <th>Gene</th>\n",
       "      <th>Start</th>\n",
       "      <th>feature_is_filtered</th>\n",
       "      <th>feature_name</th>\n",
       "      <th>feature_reference</th>\n",
       "      <th>feature_biotype</th>\n",
       "      <th>feature_length</th>\n",
       "      <th>feature_type</th>\n",
       "    </tr>\n",
       "  </thead>\n",
       "  <tbody>\n",
       "    <tr>\n",
       "      <th>ENSG00000000003</th>\n",
       "      <td>n/a</td>\n",
       "      <td>chrX</td>\n",
       "      <td>100639991</td>\n",
       "      <td>TSPAN6</td>\n",
       "      <td>100627108</td>\n",
       "      <td>False</td>\n",
       "      <td>TSPAN6</td>\n",
       "      <td>NCBITaxon:9606</td>\n",
       "      <td>gene</td>\n",
       "      <td>2396</td>\n",
       "      <td>protein_coding</td>\n",
       "    </tr>\n",
       "    <tr>\n",
       "      <th>ENSG00000000005</th>\n",
       "      <td>n/a</td>\n",
       "      <td>chrX</td>\n",
       "      <td>100599885</td>\n",
       "      <td>TNMD</td>\n",
       "      <td>100584936</td>\n",
       "      <td>False</td>\n",
       "      <td>TNMD</td>\n",
       "      <td>NCBITaxon:9606</td>\n",
       "      <td>gene</td>\n",
       "      <td>873</td>\n",
       "      <td>protein_coding</td>\n",
       "    </tr>\n",
       "    <tr>\n",
       "      <th>ENSG00000000419</th>\n",
       "      <td>n/a</td>\n",
       "      <td>chr20</td>\n",
       "      <td>50958555</td>\n",
       "      <td>DPM1</td>\n",
       "      <td>50934867</td>\n",
       "      <td>False</td>\n",
       "      <td>DPM1</td>\n",
       "      <td>NCBITaxon:9606</td>\n",
       "      <td>gene</td>\n",
       "      <td>1262</td>\n",
       "      <td>protein_coding</td>\n",
       "    </tr>\n",
       "    <tr>\n",
       "      <th>ENSG00000000457</th>\n",
       "      <td>n/a</td>\n",
       "      <td>chr1</td>\n",
       "      <td>169894267</td>\n",
       "      <td>SCYL3</td>\n",
       "      <td>169849631</td>\n",
       "      <td>False</td>\n",
       "      <td>SCYL3</td>\n",
       "      <td>NCBITaxon:9606</td>\n",
       "      <td>gene</td>\n",
       "      <td>2916</td>\n",
       "      <td>protein_coding</td>\n",
       "    </tr>\n",
       "    <tr>\n",
       "      <th>ENSG00000000460</th>\n",
       "      <td>n/a</td>\n",
       "      <td>chr1</td>\n",
       "      <td>169854080</td>\n",
       "      <td>C1orf112</td>\n",
       "      <td>169662007</td>\n",
       "      <td>False</td>\n",
       "      <td>C1orf112</td>\n",
       "      <td>NCBITaxon:9606</td>\n",
       "      <td>gene</td>\n",
       "      <td>2661</td>\n",
       "      <td>protein_coding</td>\n",
       "    </tr>\n",
       "  </tbody>\n",
       "</table>\n",
       "</div>"
      ],
      "text/plain": [
       "                Biotype Chromosome        End      Gene      Start  \\\n",
       "ENSG00000000003     n/a       chrX  100639991    TSPAN6  100627108   \n",
       "ENSG00000000005     n/a       chrX  100599885      TNMD  100584936   \n",
       "ENSG00000000419     n/a      chr20   50958555      DPM1   50934867   \n",
       "ENSG00000000457     n/a       chr1  169894267     SCYL3  169849631   \n",
       "ENSG00000000460     n/a       chr1  169854080  C1orf112  169662007   \n",
       "\n",
       "                 feature_is_filtered feature_name feature_reference  \\\n",
       "ENSG00000000003                False       TSPAN6    NCBITaxon:9606   \n",
       "ENSG00000000005                False         TNMD    NCBITaxon:9606   \n",
       "ENSG00000000419                False         DPM1    NCBITaxon:9606   \n",
       "ENSG00000000457                False        SCYL3    NCBITaxon:9606   \n",
       "ENSG00000000460                False     C1orf112    NCBITaxon:9606   \n",
       "\n",
       "                feature_biotype feature_length    feature_type  \n",
       "ENSG00000000003            gene           2396  protein_coding  \n",
       "ENSG00000000005            gene            873  protein_coding  \n",
       "ENSG00000000419            gene           1262  protein_coding  \n",
       "ENSG00000000457            gene           2916  protein_coding  \n",
       "ENSG00000000460            gene           2661  protein_coding  "
      ]
     },
     "execution_count": 6,
     "metadata": {},
     "output_type": "execute_result"
    }
   ],
   "source": [
    "adata.var.head()\n"
   ]
  },
  {
   "cell_type": "code",
   "execution_count": null,
   "id": "f6c0f895",
   "metadata": {},
   "outputs": [
    {
     "name": "stdout",
     "output_type": "stream",
     "text": [
      "Genes in the dataset: 18862 on 19264\n"
     ]
    }
   ],
   "source": [
    "gene_to_index = pd.Series(adata.var_names, index=adata.var['feature_name'])\n",
    "\n",
    "common_genes = [g for g in genes_list if g in gene_to_index.index]\n",
    "missing_genes = [g for g in genes_list if g not in gene_to_index.index]\n",
    "\n",
    "print(f\"Genes in the dataset: {len(common_genes)} on {len(genes_list) - 1}\")\n",
    "\n",
    "# Select present data\n",
    "adata_present = adata[:, gene_to_index[common_genes]].copy()\n",
    "\n",
    "# Create anndata for missing genes with zero values\n",
    "n_obs = adata.n_obs\n",
    "X_missing = sp.csr_matrix((n_obs, len(missing_genes)))  # all zero\n",
    "adata_missing = ad.AnnData(\n",
    "    X_missing,\n",
    "    obs=adata.obs.copy(),\n",
    "    var=pd.DataFrame(index=missing_genes)\n",
    ")\n",
    "\n",
    "# Concatenate along the variables (genes)\n",
    "adata_aligned = ad.concat([adata_present, adata_missing], axis=1)\n",
    "adata_aligned = adata_aligned[:, genes_list].copy()"
   ]
  },
  {
   "cell_type": "markdown",
   "id": "e6912194",
   "metadata": {},
   "source": [
    "## Filtering Data"
   ]
  },
  {
   "cell_type": "code",
   "execution_count": null,
   "id": "37ce3aae",
   "metadata": {},
   "outputs": [],
   "source": [
    "sc.pp.filter_cells(adata_aligned, min_genes=n_genes_filter)\n",
    "\n",
    "print(f\"Filterd {adata.n_obs - adata_aligned.n_obs} on original total {adata.n_obs}\")"
   ]
  },
  {
   "cell_type": "markdown",
   "id": "cde19a6c",
   "metadata": {},
   "source": [
    "## Verifiy the Normalization"
   ]
  },
  {
   "cell_type": "code",
   "execution_count": null,
   "id": "a95cf705",
   "metadata": {},
   "outputs": [],
   "source": [
    "X_eye = adata_eye_aligned.raw.X\n",
    "\n",
    "max_val_eye = np.max(X_eye)\n",
    "\n",
    "print(f\"Max value in eye dataset: {max_val_eye}\")"
   ]
  }
 ],
 "metadata": {
  "kernelspec": {
   "display_name": ".venv (3.9.7)",
   "language": "python",
   "name": "python3"
  },
  "language_info": {
   "codemirror_mode": {
    "name": "ipython",
    "version": 3
   },
   "file_extension": ".py",
   "mimetype": "text/x-python",
   "name": "python",
   "nbconvert_exporter": "python",
   "pygments_lexer": "ipython3",
   "version": "3.9.7"
  }
 },
 "nbformat": 4,
 "nbformat_minor": 5
}
