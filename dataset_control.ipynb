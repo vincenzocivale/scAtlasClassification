{
 "cells": [
  {
   "cell_type": "code",
   "execution_count": 1,
   "id": "cb0f4a5e",
   "metadata": {},
   "outputs": [],
   "source": [
    "import scanpy as sc\n",
    "import pandas as pd\n",
    "import numpy as np"
   ]
  },
  {
   "cell_type": "code",
   "execution_count": 2,
   "id": "07d0b96d",
   "metadata": {},
   "outputs": [],
   "source": [
    "# read tsv file with gene names\n",
    "genes_list = pd.read_csv(\"OS_scRNA_gene_index.19264.tsv\", header=None, sep=\"\\t\")[0].tolist()"
   ]
  },
  {
   "cell_type": "code",
   "execution_count": 3,
   "id": "3a3b929c",
   "metadata": {},
   "outputs": [],
   "source": [
    "label_obs = 'cell_type'"
   ]
  },
  {
   "cell_type": "markdown",
   "id": "fd10fe78",
   "metadata": {},
   "source": [
    "# EYE DATASET"
   ]
  },
  {
   "cell_type": "code",
   "execution_count": 4,
   "id": "aeacfcd8",
   "metadata": {},
   "outputs": [],
   "source": [
    "adata_eye = sc.read_h5ad(\"dataset/eye_single_cell_atlas.h5ad\")"
   ]
  },
  {
   "cell_type": "code",
   "execution_count": 5,
   "id": "3ef1d361",
   "metadata": {},
   "outputs": [
    {
     "data": {
      "text/plain": [
       "AnnData object with n_obs × n_vars = 3177310 × 36406\n",
       "    obs: 'reference_genome', 'gene_annotation_version', 'alignment_software', 'intronic_reads_counted', 'donor_id', 'donor_age', 'self_reported_ethnicity_ontology_term_id', 'donor_cause_of_death', 'donor_living_at_sample_collection', 'sample_id', 'sample_preservation_method', 'tissue_ontology_term_id', 'development_stage_ontology_term_id', 'sample_collection_method', 'tissue_source', 'tissue_type', 'suspension_derivation_process', 'suspension_dissociation_reagent', 'suspension_enriched_cell_types', 'suspension_enrichment_factors', 'suspension_uuid', 'suspension_type', 'tissue_handling_interval', 'library_id', 'assay_ontology_term_id', 'sequenced_fragment', 'institute', 'library_id_repository', 'sequencing_platform', 'is_primary_data', 'cell_type_ontology_term_id', 'author_cell_type', 'disease_ontology_term_id', 'sex_ontology_term_id', 'majorclass', 'AC_subclass', 'AC_cluster', 'AC_celltype_number', 'BC_subclass', 'RGC_cluster', 'RGC_celltype_number', 'study_name', 'nCount_RNA', 'nFeature_RNA', 'percent.mt', 'sampleid', 'cell_type', 'assay', 'disease', 'sex', 'tissue', 'self_reported_ethnicity', 'development_stage', 'observation_joinid'\n",
       "    var: 'feature_is_filtered', 'feature_name', 'feature_reference', 'feature_biotype', 'feature_length', 'feature_type'\n",
       "    uns: 'citation', 'default_embedding', 'organism', 'organism_ontology_term_id', 'schema_reference', 'schema_version', 'title'\n",
       "    obsm: 'X_scVI', 'X_umap'"
      ]
     },
     "execution_count": 5,
     "metadata": {},
     "output_type": "execute_result"
    }
   ],
   "source": [
    "adata_eye"
   ]
  },
  {
   "cell_type": "code",
   "execution_count": null,
   "id": "6bf317af",
   "metadata": {},
   "outputs": [],
   "source": [
    "X_eye = adata_eye.raw.X\n",
    "\n",
    "# Analisi statistica dei valori\n",
    "min_val_eye, max_val_eye, mean_val_eye = np.min(X_eye), np.max(X_eye), np.mean(X_eye)\n",
    "\n",
    "print(f\"Min: {min_val_eye}, Max: {max_val_eye}, Mean: {mean_val_eye}\")"
   ]
  },
  {
   "cell_type": "code",
   "execution_count": null,
   "id": "9266c3ff",
   "metadata": {},
   "outputs": [],
   "source": []
  }
 ],
 "metadata": {
  "kernelspec": {
   "display_name": ".venv (3.9.7)",
   "language": "python",
   "name": "python3"
  },
  "language_info": {
   "codemirror_mode": {
    "name": "ipython",
    "version": 3
   },
   "file_extension": ".py",
   "mimetype": "text/x-python",
   "name": "python",
   "nbconvert_exporter": "python",
   "pygments_lexer": "ipython3",
   "version": "3.9.7"
  }
 },
 "nbformat": 4,
 "nbformat_minor": 5
}
