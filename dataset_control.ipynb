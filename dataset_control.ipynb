{
 "cells": [
  {
   "cell_type": "code",
   "execution_count": 1,
   "id": "cb0f4a5e",
   "metadata": {},
   "outputs": [],
   "source": [
    "import scanpy as sc\n",
    "import pandas as pd\n",
    "import numpy as np\n",
    "import scipy.sparse as sp\n",
    "import anndata as ad"
   ]
  },
  {
   "cell_type": "code",
   "execution_count": 2,
   "id": "07d0b96d",
   "metadata": {},
   "outputs": [],
   "source": [
    "# read tsv file with gene names\n",
    "genes_list = pd.read_csv(\"OS_scRNA_gene_index.19264.tsv\", header=None, sep=\"\\t\")[0].tolist()"
   ]
  },
  {
   "cell_type": "code",
   "execution_count": 3,
   "id": "3a3b929c",
   "metadata": {},
   "outputs": [],
   "source": [
    "label_obs = 'cell_type'\n",
    "n_genes_filter = 200"
   ]
  },
  {
   "cell_type": "code",
   "execution_count": 4,
   "id": "6b37ffa0",
   "metadata": {},
   "outputs": [],
   "source": [
    "root_dir = \"/equilibrium/datasets/TCGA-histological-data/scDataset\""
   ]
  },
  {
   "cell_type": "markdown",
   "id": "fd10fe78",
   "metadata": {},
   "source": [
    "# EYE DATASET"
   ]
  },
  {
   "cell_type": "code",
   "execution_count": null,
   "id": "aeacfcd8",
   "metadata": {},
   "outputs": [],
   "source": [
    "adata_eye = sc.read_h5ad(f\"{root_dir}/eye_sc_atlas.h5ad\")"
   ]
  },
  {
   "cell_type": "code",
   "execution_count": null,
   "id": "3ef1d361",
   "metadata": {},
   "outputs": [
    {
     "data": {
      "text/plain": [
       "AnnData object with n_obs × n_vars = 3177310 × 36406\n",
       "    obs: 'reference_genome', 'gene_annotation_version', 'alignment_software', 'intronic_reads_counted', 'donor_id', 'donor_age', 'self_reported_ethnicity_ontology_term_id', 'donor_cause_of_death', 'donor_living_at_sample_collection', 'sample_id', 'sample_preservation_method', 'tissue_ontology_term_id', 'development_stage_ontology_term_id', 'sample_collection_method', 'tissue_source', 'tissue_type', 'suspension_derivation_process', 'suspension_dissociation_reagent', 'suspension_enriched_cell_types', 'suspension_enrichment_factors', 'suspension_uuid', 'suspension_type', 'tissue_handling_interval', 'library_id', 'assay_ontology_term_id', 'sequenced_fragment', 'institute', 'library_id_repository', 'sequencing_platform', 'is_primary_data', 'cell_type_ontology_term_id', 'author_cell_type', 'disease_ontology_term_id', 'sex_ontology_term_id', 'majorclass', 'AC_subclass', 'AC_cluster', 'AC_celltype_number', 'BC_subclass', 'RGC_cluster', 'RGC_celltype_number', 'study_name', 'nCount_RNA', 'nFeature_RNA', 'percent.mt', 'sampleid', 'cell_type', 'assay', 'disease', 'sex', 'tissue', 'self_reported_ethnicity', 'development_stage', 'observation_joinid'\n",
       "    var: 'feature_is_filtered', 'feature_name', 'feature_reference', 'feature_biotype', 'feature_length', 'feature_type'\n",
       "    uns: 'citation', 'default_embedding', 'organism', 'organism_ontology_term_id', 'schema_reference', 'schema_version', 'title'\n",
       "    obsm: 'X_scVI', 'X_umap'"
      ]
     },
     "execution_count": 5,
     "metadata": {},
     "output_type": "execute_result"
    }
   ],
   "source": [
    "adata_eye"
   ]
  },
  {
   "cell_type": "markdown",
   "id": "ba67ca43",
   "metadata": {},
   "source": [
    "## Gene Alignment"
   ]
  },
  {
   "cell_type": "code",
   "execution_count": null,
   "id": "9ac8ed9b",
   "metadata": {},
   "outputs": [
    {
     "data": {
      "text/html": [
       "<div>\n",
       "<style scoped>\n",
       "    .dataframe tbody tr th:only-of-type {\n",
       "        vertical-align: middle;\n",
       "    }\n",
       "\n",
       "    .dataframe tbody tr th {\n",
       "        vertical-align: top;\n",
       "    }\n",
       "\n",
       "    .dataframe thead th {\n",
       "        text-align: right;\n",
       "    }\n",
       "</style>\n",
       "<table border=\"1\" class=\"dataframe\">\n",
       "  <thead>\n",
       "    <tr style=\"text-align: right;\">\n",
       "      <th></th>\n",
       "      <th>feature_is_filtered</th>\n",
       "      <th>feature_name</th>\n",
       "      <th>feature_reference</th>\n",
       "      <th>feature_biotype</th>\n",
       "      <th>feature_length</th>\n",
       "      <th>feature_type</th>\n",
       "    </tr>\n",
       "  </thead>\n",
       "  <tbody>\n",
       "    <tr>\n",
       "      <th>ENSG00000243485</th>\n",
       "      <td>False</td>\n",
       "      <td>MIR1302-2HG</td>\n",
       "      <td>NCBITaxon:9606</td>\n",
       "      <td>gene</td>\n",
       "      <td>623</td>\n",
       "      <td>lncRNA</td>\n",
       "    </tr>\n",
       "    <tr>\n",
       "      <th>ENSG00000237613</th>\n",
       "      <td>False</td>\n",
       "      <td>FAM138A</td>\n",
       "      <td>NCBITaxon:9606</td>\n",
       "      <td>gene</td>\n",
       "      <td>888</td>\n",
       "      <td>lncRNA</td>\n",
       "    </tr>\n",
       "    <tr>\n",
       "      <th>ENSG00000186092</th>\n",
       "      <td>False</td>\n",
       "      <td>OR4F5</td>\n",
       "      <td>NCBITaxon:9606</td>\n",
       "      <td>gene</td>\n",
       "      <td>2618</td>\n",
       "      <td>protein_coding</td>\n",
       "    </tr>\n",
       "    <tr>\n",
       "      <th>ENSG00000238009</th>\n",
       "      <td>False</td>\n",
       "      <td>ENSG00000238009</td>\n",
       "      <td>NCBITaxon:9606</td>\n",
       "      <td>gene</td>\n",
       "      <td>629</td>\n",
       "      <td>lncRNA</td>\n",
       "    </tr>\n",
       "    <tr>\n",
       "      <th>ENSG00000239945</th>\n",
       "      <td>False</td>\n",
       "      <td>ENSG00000239945</td>\n",
       "      <td>NCBITaxon:9606</td>\n",
       "      <td>gene</td>\n",
       "      <td>1319</td>\n",
       "      <td>lncRNA</td>\n",
       "    </tr>\n",
       "  </tbody>\n",
       "</table>\n",
       "</div>"
      ],
      "text/plain": [
       "                 feature_is_filtered     feature_name feature_reference  \\\n",
       "ENSG00000243485                False      MIR1302-2HG    NCBITaxon:9606   \n",
       "ENSG00000237613                False          FAM138A    NCBITaxon:9606   \n",
       "ENSG00000186092                False            OR4F5    NCBITaxon:9606   \n",
       "ENSG00000238009                False  ENSG00000238009    NCBITaxon:9606   \n",
       "ENSG00000239945                False  ENSG00000239945    NCBITaxon:9606   \n",
       "\n",
       "                feature_biotype feature_length    feature_type  \n",
       "ENSG00000243485            gene            623          lncRNA  \n",
       "ENSG00000237613            gene            888          lncRNA  \n",
       "ENSG00000186092            gene           2618  protein_coding  \n",
       "ENSG00000238009            gene            629          lncRNA  \n",
       "ENSG00000239945            gene           1319          lncRNA  "
      ]
     },
     "execution_count": 6,
     "metadata": {},
     "output_type": "execute_result"
    }
   ],
   "source": [
    "adata_eye.var.head()\n"
   ]
  },
  {
   "cell_type": "code",
   "execution_count": null,
   "id": "f6c0f895",
   "metadata": {},
   "outputs": [
    {
     "name": "stdout",
     "output_type": "stream",
     "text": [
      "Genes in the dataset: 19041 on 19264\n"
     ]
    }
   ],
   "source": [
    "adata_eye.var_names = adata_eye.var['feature_name']\n",
    "adata_eye.var_names_make_unique()\n",
    "\n",
    "adata_eye_aligned = ad.AnnData(\n",
    "    obs=adata_eye.obs.copy(),\n",
    "    var=pd.DataFrame(index=genes_list),\n",
    "    dtype=adata_eye.X.dtype  \n",
    ")\n",
    "\n",
    "common_genes = list(set(adata_eye.var_names) & set(genes_list))\n",
    "\n",
    "adata_eye_aligned[:, common_genes].X = adata_eye[:, common_genes].X\n",
    "\n",
    "print(f\"Aligned dataset created with {adata_eye_aligned.n_vars} genes for {adata_eye_aligned.n_obs} cells.\")\n",
    "print(f\"Found and copied data for {len(common_genes)} common genes.\")"
   ]
  },
  {
   "cell_type": "markdown",
   "id": "e6912194",
   "metadata": {},
   "source": [
    "## Filtering Data"
   ]
  },
  {
   "cell_type": "code",
   "execution_count": null,
   "id": "37ce3aae",
   "metadata": {},
   "outputs": [],
   "source": [
    "sc.pp.filter_cells(adata_eye_aligned, min_genes=n_genes_filter)\n",
    "\n",
    "print(f\"Filterd {adata_eye.n_obs - adata_eye_aligned.n_obs} on original total {adata_eye.n_obs}\")"
   ]
  },
  {
   "cell_type": "markdown",
   "id": "cde19a6c",
   "metadata": {},
   "source": [
    "## Verifiy the Normalization"
   ]
  },
  {
   "cell_type": "code",
   "execution_count": null,
   "id": "a95cf705",
   "metadata": {},
   "outputs": [],
   "source": [
    "X_eye = adata_eye_aligned.raw.X\n",
    "\n",
    "max_val_eye = np.max(X_eye)\n",
    "\n",
    "print(f\"Max value in eye dataset: {max_val_eye}\")"
   ]
  },
  {
   "cell_type": "markdown",
   "id": "35546ea0",
   "metadata": {},
   "source": [
    "# Nervous System Dataset"
   ]
  },
  {
   "cell_type": "code",
   "execution_count": null,
   "id": "b72aaa51",
   "metadata": {},
   "outputs": [],
   "source": [
    "adata_ns = sc.read_h5ad(f\"{root_dir}/nervous_system_sc_atlas.h5ad\")"
   ]
  },
  {
   "cell_type": "code",
   "execution_count": null,
   "id": "9d5939c6",
   "metadata": {},
   "outputs": [],
   "source": [
    "adata_ns"
   ]
  },
  {
   "cell_type": "markdown",
   "id": "23944937",
   "metadata": {},
   "source": [
    "## Gene Alignment"
   ]
  },
  {
   "cell_type": "code",
   "execution_count": null,
   "id": "2e12e79d",
   "metadata": {},
   "outputs": [],
   "source": [
    "adata_ns.var.head()\n"
   ]
  },
  {
   "cell_type": "code",
   "execution_count": null,
   "id": "bbee712e",
   "metadata": {},
   "outputs": [],
   "source": [
    "gene_to_index = pd.Series(adata_ns.var_names, index=adata_ns.var['feature_name'])\n",
    "\n",
    "common_genes = [g for g in genes_list if g in gene_to_index.index]\n",
    "missing_genes = [g for g in genes_list if g not in gene_to_index.index]\n",
    "\n",
    "print(f\"Genes in the dataset: {len(common_genes)} on {len(genes_list) - 1}\")\n",
    "\n",
    "# Select present data\n",
    "adata_present = adata_ns[:, gene_to_index[common_genes]].copy()\n",
    "\n",
    "# Create anndata for missing genes with zero values\n",
    "n_obs = adata_ns.n_obs\n",
    "X_missing = sp.csr_matrix((n_obs, len(missing_genes)))  # all zero\n",
    "adata_missing = ad.AnnData(\n",
    "    X_missing,\n",
    "    obs=adata_ns.obs.copy(),\n",
    "    var=pd.DataFrame(index=missing_genes)\n",
    ")\n",
    "\n",
    "# Concatenate along the variables (genes)\n",
    "adata_ns_aligned = ad.concat([adata_present, adata_missing], axis=1)\n",
    "adata_ns_aligned = adata_ns_aligned[:, genes_list].copy()"
   ]
  },
  {
   "cell_type": "markdown",
   "id": "c551a1da",
   "metadata": {},
   "source": [
    "## Filtering Data"
   ]
  },
  {
   "cell_type": "code",
   "execution_count": null,
   "id": "ae06a75f",
   "metadata": {},
   "outputs": [],
   "source": [
    "sc.pp.filter_cells(adata_ns_aligned, min_genes=n_genes_filter)\n",
    "\n",
    "print(f\"Filtered {adata_ns.n_obs - adata_ns_aligned.n_obs} on original total {adata_ns.n_obs}\")"
   ]
  },
  {
   "cell_type": "markdown",
   "id": "8f46e987",
   "metadata": {},
   "source": [
    "## Verifiy the Normalization"
   ]
  },
  {
   "cell_type": "code",
   "execution_count": null,
   "id": "9e035c30",
   "metadata": {},
   "outputs": [],
   "source": [
    "X_eye = adata_ns_aligned.raw.X\n",
    "\n",
    "max_val_eye = np.max(X_eye)\n",
    "\n",
    "print(f\"Max value in eye dataset: {max_val_eye}\")"
   ]
  },
  {
   "cell_type": "markdown",
   "id": "9df9592a",
   "metadata": {},
   "source": [
    "# Organoid Dataset"
   ]
  },
  {
   "cell_type": "code",
   "execution_count": null,
   "id": "5ad35fb2",
   "metadata": {},
   "outputs": [],
   "source": [
    "adata_organoid = sc.read_h5ad(f\"{root_dir}/organoids_sc_atlas.h5ad\")"
   ]
  },
  {
   "cell_type": "code",
   "execution_count": null,
   "id": "5d55004c",
   "metadata": {},
   "outputs": [],
   "source": [
    "adata_organoid"
   ]
  },
  {
   "cell_type": "markdown",
   "id": "53e703e4",
   "metadata": {},
   "source": [
    "## Gene Alignment"
   ]
  },
  {
   "cell_type": "code",
   "execution_count": null,
   "id": "cd4f5458",
   "metadata": {},
   "outputs": [],
   "source": [
    "adata_organoid.var.head()\n"
   ]
  },
  {
   "cell_type": "code",
   "execution_count": null,
   "id": "27c5d9b4",
   "metadata": {},
   "outputs": [],
   "source": [
    "gene_to_index = pd.Series(adata_organoid.var_names, index=adata_organoid.var['feature_name'])\n",
    "\n",
    "common_genes = [g for g in genes_list if g in gene_to_index.index]\n",
    "missing_genes = [g for g in genes_list if g not in gene_to_index.index]\n",
    "\n",
    "print(f\"Genes in the dataset: {len(common_genes)} on {len(genes_list) - 1}\")\n",
    "\n",
    "# Select present data\n",
    "adata_present = adata_organoid[:, gene_to_index[common_genes]].copy()\n",
    "\n",
    "# Create anndata for missing genes with zero values\n",
    "n_obs = adata_organoid.n_obs\n",
    "X_missing = sp.csr_matrix((n_obs, len(missing_genes)))  # all zero\n",
    "adata_missing = ad.AnnData(\n",
    "    X_missing,\n",
    "    obs=adata_organoid.obs.copy(),\n",
    "    var=pd.DataFrame(index=missing_genes)\n",
    ")\n",
    "\n",
    "# Concatenate along the variables (genes)\n",
    "adata_organoid_aligned = ad.concat([adata_present, adata_missing], axis=1)\n",
    "adata_organoid_aligned = adata_organoid_aligned[:, genes_list].copy()"
   ]
  }
 ],
 "metadata": {
  "kernelspec": {
   "display_name": "Python 3",
   "language": "python",
   "name": "python3"
  },
  "language_info": {
   "codemirror_mode": {
    "name": "ipython",
    "version": 3
   },
   "file_extension": ".py",
   "mimetype": "text/x-python",
   "name": "python",
   "nbconvert_exporter": "python",
   "pygments_lexer": "ipython3",
   "version": "3.10.12"
  }
 },
 "nbformat": 4,
 "nbformat_minor": 5
}
