{
 "cells": [
  {
   "cell_type": "code",
   "execution_count": 1,
   "id": "cb0f4a5e",
   "metadata": {},
   "outputs": [],
   "source": [
    "import scanpy as sc\n",
    "import pandas as pd\n",
    "import numpy as np\n",
    "import scipy.sparse as sp\n",
    "import anndata as ad"
   ]
  },
  {
   "cell_type": "code",
   "execution_count": 2,
   "id": "07d0b96d",
   "metadata": {},
   "outputs": [],
   "source": [
    "# read tsv file with gene names\n",
    "genes_list = pd.read_csv(\"OS_scRNA_gene_index.19264.tsv\", header=None, sep=\"\\t\")[0].tolist()"
   ]
  },
  {
   "cell_type": "code",
   "execution_count": 3,
   "id": "3a3b929c",
   "metadata": {},
   "outputs": [],
   "source": [
    "label_obs = 'cell_type'\n",
    "n_genes_filter = 200"
   ]
  },
  {
   "cell_type": "markdown",
   "id": "fd10fe78",
   "metadata": {},
   "source": [
    "# EYE DATASET"
   ]
  },
  {
   "cell_type": "code",
   "execution_count": 4,
   "id": "aeacfcd8",
   "metadata": {},
   "outputs": [],
   "source": [
    "adata = sc.read_h5ad(\"dataset/organoid_single_cell_atlas.h5ad\")"
   ]
  },
  {
   "cell_type": "code",
   "execution_count": 5,
   "id": "3ef1d361",
   "metadata": {},
   "outputs": [
    {
     "data": {
      "text/plain": [
       "AnnData object with n_obs × n_vars = 1920782 × 36720\n",
       "    obs: 'assay_differentiation', 'assay_type_differentiation', 'bio_sample', 'cell_line', 'cell_type_original', 'gm', 'id', 'individual', 'state_exact', 'suspension_type', 'tech_sample', 'treatment', 'organoid_age_days', 'publication', 'doi', 'batch', 'annot_level_1', 'annot_level_2', 'annot_level_3_rev2', 'annot_level_4_rev2', 'annot_region_rev2', 'annot_ntt_rev2', 'Hallmark_Glycolysis', 'hnoca_core', 'annot_level_2_extended', 'tissue_type', 'sex_ontology_term_id', 'donor_id', 'assay_ontology_term_id', 'self_reported_ethnicity_ontology_term_id', 'tissue_ontology_term_id', 'disease_ontology_term_id', 'development_stage_ontology_term_id', 'cell_type_ontology_term_id', 'is_primary_data', 'cell_type', 'assay', 'disease', 'sex', 'tissue', 'self_reported_ethnicity', 'development_stage', 'observation_joinid'\n",
       "    var: 'gene_length', 'highly_variable', 'highly_variable_rank', 'highly_variable_nbatches', 'feature_is_filtered', 'feature_name', 'feature_reference', 'feature_biotype', 'feature_length', 'feature_type'\n",
       "    uns: 'batch_condition', 'citation', 'default_embedding', 'organism', 'organism_ontology_term_id', 'schema_reference', 'schema_version', 'title'\n",
       "    obsm: 'X_scpoli', 'X_umap_scpoli'\n",
       "    obsp: 'knn_scpoli_connectivities', 'knn_scpoli_distances'"
      ]
     },
     "execution_count": 5,
     "metadata": {},
     "output_type": "execute_result"
    }
   ],
   "source": [
    "adata"
   ]
  },
  {
   "cell_type": "markdown",
   "id": "ba67ca43",
   "metadata": {},
   "source": [
    "## Gene Alignment"
   ]
  },
  {
   "cell_type": "code",
   "execution_count": 6,
   "id": "9ac8ed9b",
   "metadata": {},
   "outputs": [
    {
     "data": {
      "text/html": [
       "<div>\n",
       "<style scoped>\n",
       "    .dataframe tbody tr th:only-of-type {\n",
       "        vertical-align: middle;\n",
       "    }\n",
       "\n",
       "    .dataframe tbody tr th {\n",
       "        vertical-align: top;\n",
       "    }\n",
       "\n",
       "    .dataframe thead th {\n",
       "        text-align: right;\n",
       "    }\n",
       "</style>\n",
       "<table border=\"1\" class=\"dataframe\">\n",
       "  <thead>\n",
       "    <tr style=\"text-align: right;\">\n",
       "      <th></th>\n",
       "      <th>gene_length</th>\n",
       "      <th>highly_variable</th>\n",
       "      <th>highly_variable_rank</th>\n",
       "      <th>highly_variable_nbatches</th>\n",
       "      <th>feature_is_filtered</th>\n",
       "      <th>feature_name</th>\n",
       "      <th>feature_reference</th>\n",
       "      <th>feature_biotype</th>\n",
       "      <th>feature_length</th>\n",
       "      <th>feature_type</th>\n",
       "    </tr>\n",
       "    <tr>\n",
       "      <th>ensembl_id</th>\n",
       "      <th></th>\n",
       "      <th></th>\n",
       "      <th></th>\n",
       "      <th></th>\n",
       "      <th></th>\n",
       "      <th></th>\n",
       "      <th></th>\n",
       "      <th></th>\n",
       "      <th></th>\n",
       "      <th></th>\n",
       "    </tr>\n",
       "  </thead>\n",
       "  <tbody>\n",
       "    <tr>\n",
       "      <th>ENSG00000000003</th>\n",
       "      <td>3796</td>\n",
       "      <td>False</td>\n",
       "      <td>2243.0</td>\n",
       "      <td>118</td>\n",
       "      <td>False</td>\n",
       "      <td>TSPAN6</td>\n",
       "      <td>NCBITaxon:9606</td>\n",
       "      <td>gene</td>\n",
       "      <td>2396</td>\n",
       "      <td>protein_coding</td>\n",
       "    </tr>\n",
       "    <tr>\n",
       "      <th>ENSG00000000005</th>\n",
       "      <td>1205</td>\n",
       "      <td>True</td>\n",
       "      <td>738.5</td>\n",
       "      <td>114</td>\n",
       "      <td>False</td>\n",
       "      <td>TNMD</td>\n",
       "      <td>NCBITaxon:9606</td>\n",
       "      <td>gene</td>\n",
       "      <td>873</td>\n",
       "      <td>protein_coding</td>\n",
       "    </tr>\n",
       "    <tr>\n",
       "      <th>ENSG00000000419</th>\n",
       "      <td>3004</td>\n",
       "      <td>False</td>\n",
       "      <td>2032.0</td>\n",
       "      <td>9</td>\n",
       "      <td>False</td>\n",
       "      <td>DPM1</td>\n",
       "      <td>NCBITaxon:9606</td>\n",
       "      <td>gene</td>\n",
       "      <td>1262</td>\n",
       "      <td>protein_coding</td>\n",
       "    </tr>\n",
       "    <tr>\n",
       "      <th>ENSG00000000457</th>\n",
       "      <td>6308</td>\n",
       "      <td>False</td>\n",
       "      <td>2532.0</td>\n",
       "      <td>15</td>\n",
       "      <td>False</td>\n",
       "      <td>SCYL3</td>\n",
       "      <td>NCBITaxon:9606</td>\n",
       "      <td>gene</td>\n",
       "      <td>2916</td>\n",
       "      <td>protein_coding</td>\n",
       "    </tr>\n",
       "    <tr>\n",
       "      <th>ENSG00000000460</th>\n",
       "      <td>4355</td>\n",
       "      <td>False</td>\n",
       "      <td>2444.0</td>\n",
       "      <td>37</td>\n",
       "      <td>False</td>\n",
       "      <td>C1orf112</td>\n",
       "      <td>NCBITaxon:9606</td>\n",
       "      <td>gene</td>\n",
       "      <td>2661</td>\n",
       "      <td>protein_coding</td>\n",
       "    </tr>\n",
       "  </tbody>\n",
       "</table>\n",
       "</div>"
      ],
      "text/plain": [
       "                 gene_length  highly_variable  highly_variable_rank  \\\n",
       "ensembl_id                                                            \n",
       "ENSG00000000003         3796            False                2243.0   \n",
       "ENSG00000000005         1205             True                 738.5   \n",
       "ENSG00000000419         3004            False                2032.0   \n",
       "ENSG00000000457         6308            False                2532.0   \n",
       "ENSG00000000460         4355            False                2444.0   \n",
       "\n",
       "                 highly_variable_nbatches  feature_is_filtered feature_name  \\\n",
       "ensembl_id                                                                    \n",
       "ENSG00000000003                       118                False       TSPAN6   \n",
       "ENSG00000000005                       114                False         TNMD   \n",
       "ENSG00000000419                         9                False         DPM1   \n",
       "ENSG00000000457                        15                False        SCYL3   \n",
       "ENSG00000000460                        37                False     C1orf112   \n",
       "\n",
       "                feature_reference feature_biotype feature_length  \\\n",
       "ensembl_id                                                         \n",
       "ENSG00000000003    NCBITaxon:9606            gene           2396   \n",
       "ENSG00000000005    NCBITaxon:9606            gene            873   \n",
       "ENSG00000000419    NCBITaxon:9606            gene           1262   \n",
       "ENSG00000000457    NCBITaxon:9606            gene           2916   \n",
       "ENSG00000000460    NCBITaxon:9606            gene           2661   \n",
       "\n",
       "                   feature_type  \n",
       "ensembl_id                       \n",
       "ENSG00000000003  protein_coding  \n",
       "ENSG00000000005  protein_coding  \n",
       "ENSG00000000419  protein_coding  \n",
       "ENSG00000000457  protein_coding  \n",
       "ENSG00000000460  protein_coding  "
      ]
     },
     "execution_count": 6,
     "metadata": {},
     "output_type": "execute_result"
    }
   ],
   "source": [
    "adata.var.head()\n"
   ]
  },
  {
   "cell_type": "code",
   "execution_count": null,
   "id": "f6c0f895",
   "metadata": {},
   "outputs": [
    {
     "name": "stdout",
     "output_type": "stream",
     "text": [
      "Genes in the dataset: 19045 on 19264\n"
     ]
    }
   ],
   "source": [
    "gene_to_index = pd.Series(adata.var_names, index=adata.var['feature_name'])\n",
    "\n",
    "common_genes = [g for g in genes_list if g in gene_to_index.index]\n",
    "missing_genes = [g for g in genes_list if g not in gene_to_index.index]\n",
    "\n",
    "print(f\"Genes in the dataset: {len(common_genes)} on {len(genes_list) - 1}\")\n",
    "\n",
    "# Select present data\n",
    "adata_present = adata[:, gene_to_index[common_genes]].copy()\n",
    "\n",
    "# Create anndata for missing genes with zero values\n",
    "n_obs = adata.n_obs\n",
    "X_missing = sp.csr_matrix((n_obs, len(missing_genes)))  # all zero\n",
    "adata_missing = ad.AnnData(\n",
    "    X_missing,\n",
    "    obs=adata.obs.copy(),\n",
    "    var=pd.DataFrame(index=missing_genes)\n",
    ")\n",
    "\n",
    "# Concatenate along the variables (genes)\n",
    "adata_aligned = ad.concat([adata_present, adata_missing], axis=1)\n",
    "adata_aligned = adata_aligned[:, genes_list].copy()"
   ]
  },
  {
   "cell_type": "markdown",
   "id": "e6912194",
   "metadata": {},
   "source": [
    "## Filtering Data"
   ]
  },
  {
   "cell_type": "code",
   "execution_count": null,
   "id": "37ce3aae",
   "metadata": {},
   "outputs": [],
   "source": [
    "sc.pp.filter_cells(adata_aligned, min_genes=n_genes_filter)\n",
    "\n",
    "print(f\"Filterd {adata.n_obs - adata_aligned.n_obs} on original total {adata.n_obs}\")"
   ]
  },
  {
   "cell_type": "markdown",
   "id": "cde19a6c",
   "metadata": {},
   "source": [
    "## Verifiy the Normalization"
   ]
  },
  {
   "cell_type": "code",
   "execution_count": null,
   "id": "a95cf705",
   "metadata": {},
   "outputs": [],
   "source": [
    "X_eye = adata_eye_aligned.raw.X\n",
    "\n",
    "max_val_eye = np.max(X_eye)\n",
    "\n",
    "print(f\"Max value in eye dataset: {max_val_eye}\")"
   ]
  }
 ],
 "metadata": {
  "kernelspec": {
   "display_name": ".venv (3.9.7)",
   "language": "python",
   "name": "python3"
  },
  "language_info": {
   "codemirror_mode": {
    "name": "ipython",
    "version": 3
   },
   "file_extension": ".py",
   "mimetype": "text/x-python",
   "name": "python",
   "nbconvert_exporter": "python",
   "pygments_lexer": "ipython3",
   "version": "3.9.7"
  }
 },
 "nbformat": 4,
 "nbformat_minor": 5
}
